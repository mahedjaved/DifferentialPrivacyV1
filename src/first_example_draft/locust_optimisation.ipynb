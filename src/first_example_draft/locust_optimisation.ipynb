{
 "cells": [
  {
   "metadata": {},
   "cell_type": "markdown",
   "source": "# Closable Fields",
   "id": "37b0b8310fbf2868"
  },
  {
   "cell_type": "code",
   "id": "initial_id",
   "metadata": {
    "collapsed": true
   },
   "source": [
    "# import numpy as np\n",
    "# import matplotlib.pyplot as plt\n",
    "# from jinja2.optimizer import optimize\n",
    "\n",
    "# from scipy.stats import norm, uniform\n",
    "# from sklearn.gaussian_process import GaussianProcessRegressor\n",
    "# from sklearn.gaussian_process.kernels import RBF, ConstantKernel as C\n",
    "# from bayes_opt import BayesianOptimization\n",
    "# from skopt import gp_minimize\n",
    "# from skopt.space import Real, Integer\n",
    "\n",
    "# locust imports\n",
    "from locust import HttpUser, between, task\n",
    "from locust.env import Environment\n",
    "from locust.log import setup_logging\n",
    "from locust.runners import STATE_STOPPED\n",
    "from locust.stats import stats_printer, stats_history\n",
    "import time\n",
    "import gevent"
   ],
   "outputs": [],
   "execution_count": null
  },
  {
   "metadata": {},
   "cell_type": "markdown",
   "source": "# `Step 1`: Setup the test plan with URLs and endpoints",
   "id": "6b82344526f0cae5"
  },
  {
   "metadata": {},
   "cell_type": "markdown",
   "source": "$$\\mu_{GP} = \\frac{num users}{throughput}$$",
   "id": "9373020e7c665cb1"
  },
  {
   "metadata": {},
   "cell_type": "code",
   "source": [
    "class URLS:\n",
    "    FakeAPI = \"https://fake-json-api.mock.beeceptor.com\"\n",
    "    CryptoWallet = \"https://crypto-wallet-server.mock.beeceptor.com\"\n",
    "\n",
    "\n",
    "class Endpoints:\n",
    "    # For the FakeAPI\n",
    "    Users = \"/users\"  # Returns a list of ten users in JSON format. Every time you hit this, you get a new set\n",
    "    Companies = \"/companies\"  # Get a list of ten random companies\n",
    "    # for CryptoWallet API\n",
    "    CreateRegister = \"/api/v1/register\"\n",
    "    CreateLogin = \"api/v1/login\"\n",
    "    GetBalance = \"api/v1/balance\"\n",
    "    GetAllTransactions = \"api/v1/transactions\"\n",
    "    GetAllExchangeRates = \"api/v1/exchange_rates\"\n",
    "\n",
    "\n",
    "class WebsiteUser(HttpUser):\n",
    "    wait_time = between(1, 2)\n",
    "\n",
    "\n",
    "@task\n",
    "def GET_USERS(self):\n",
    "    # with self.client.post(URLS.FakeAPI + Endpoints.Users, ) as response:\n",
    "    response = self.client.get(URLS.FakeAPI + Endpoints.Users)\n",
    "    if response.status_code in [200, 201]:\n",
    "        print(f\"Request successful, output : {response.json()}\")\n",
    "    elif response.status_code == 400:\n",
    "        print(f\"Error encountered for {self.__name__}:\", response.text)"
   ],
   "id": "2b22f04a7af0cc47",
   "outputs": [],
   "execution_count": null
  },
  {
   "metadata": {},
   "cell_type": "markdown",
   "source": "# `Step 2`: Use Locust runner with library priveledges",
   "id": "ea554dde82808a59"
  },
  {
   "metadata": {},
   "cell_type": "code",
   "source": "xxxx",
   "id": "ab98d07f6b131c46",
   "outputs": [],
   "execution_count": null
  },
  {
   "metadata": {},
   "cell_type": "code",
   "source": [
    "# Set up Locust environment\n",
    "env = Environment(user_classes=[WebsiteUser])\n",
    "env.create_local_runner()\n",
    "env.create_web_ui(\"127.0.0.1\", 8089)  # Optional: Enable the Web UI for debugging\n",
    "\n",
    "# Start Locust runner\n",
    "env.runner.start(user_count=10, spawn_rate=1)\n",
    "gevent.spawn(stats_printer(env.stats))  # Print stats to console\n",
    "gevent.spawn(stats_history, env.runner)  # Store stats history\n",
    "\n",
    "# Run for the specified time\n",
    "time.sleep(run_time=5)\n",
    "\n",
    "# Stop Locust runner\n",
    "env.runner.quit()\n",
    "env.web_ui.stop()\n",
    "\n",
    "# Return performance metrics (throughput in this case)\n",
    "total_rps = env.stats.total.get_response_time_percentile(50)  # Median response time\n",
    "print(f\"Throughput (median response time): {total_rps}\")"
   ],
   "id": "719d29a84a33e6da",
   "outputs": [],
   "execution_count": null
  },
  {
   "metadata": {},
   "cell_type": "code",
   "source": "",
   "id": "bdfb4323f8e2469a",
   "outputs": [],
   "execution_count": null
  },
  {
   "metadata": {},
   "cell_type": "code",
   "source": [
    "# Function to run Locust test\n",
    "def run_locust_test(user_count, spawn_rate, run_time=5):\n",
    "    \"\"\"\n",
    "    Runs the Locust test programmatically for a fixed duration.\n",
    "    \"\"\"\n",
    "    setup_logging(\"INFO\", None)  # Optional: Enables Locust logging\n",
    "\n",
    "    # Set up Locust environment\n",
    "    env = Environment(user_classes=[WebsiteUser])\n",
    "    env.create_local_runner()\n",
    "\n",
    "    # Start the Locust runner\n",
    "    env.runner.start(user_count=user_count, spawn_rate=spawn_rate)\n",
    "\n",
    "    # Start stats printing and history recording\n",
    "    gevent.spawn(stats_printer(env.stats))\n",
    "    gevent.spawn(stats_history, env.runner)\n",
    "\n",
    "    # Run for the specified time\n",
    "    gevent.sleep(run_time)\n",
    "\n",
    "    # Stop the Locust runner\n",
    "    env.runner.stop()\n",
    "    while env.runner.state != STATE_STOPPED:\n",
    "        gevent.sleep(0.1)\n",
    "\n",
    "    # Stop Web UI if started\n",
    "    if hasattr(env, \"web_ui\"):\n",
    "        env.web_ui.stop()\n",
    "\n",
    "    # Collect performance metrics\n",
    "    total_rps = env.stats.total.current_rps  # Requests per second\n",
    "    median_response_time = env.stats.total.get_response_time_percentile(50)\n",
    "    print(f\"Throughput (RPS): {total_rps}, Median Response Time: {median_response_time}\")\n",
    "    return total_rps"
   ],
   "id": "c26bb9b96cb5004a",
   "outputs": [],
   "execution_count": null
  },
  {
   "metadata": {},
   "cell_type": "code",
   "source": "",
   "id": "dbebf0e02323cdbb",
   "outputs": [],
   "execution_count": null
  },
  {
   "metadata": {},
   "cell_type": "code",
   "source": "",
   "id": "8b607aceb089448",
   "outputs": [],
   "execution_count": null
  },
  {
   "metadata": {},
   "cell_type": "code",
   "source": "",
   "id": "47d4ed3808beb103",
   "outputs": [],
   "execution_count": null
  }
 ],
 "metadata": {
  "kernelspec": {
   "display_name": "Python 3",
   "language": "python",
   "name": "python3"
  },
  "language_info": {
   "codemirror_mode": {
    "name": "ipython",
    "version": 2
   },
   "file_extension": ".py",
   "mimetype": "text/x-python",
   "name": "python",
   "nbconvert_exporter": "python",
   "pygments_lexer": "ipython2",
   "version": "2.7.6"
  }
 },
 "nbformat": 4,
 "nbformat_minor": 5
}
